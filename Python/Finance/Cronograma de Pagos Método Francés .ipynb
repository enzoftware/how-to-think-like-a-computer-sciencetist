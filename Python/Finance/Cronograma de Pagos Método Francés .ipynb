{
 "cells": [
  {
   "cell_type": "code",
   "execution_count": 23,
   "metadata": {},
   "outputs": [],
   "source": [
    "from beautifultable import BeautifulTable\n",
    "table = BeautifulTable()\n",
    "table.column_headers = [\"Mes\",\"Saldo inicial\",\"Interes\",\"Amortizacion\",\"Cuota mensual\",\"Saldo final\"]"
   ]
  },
  {
   "cell_type": "code",
   "execution_count": 24,
   "metadata": {},
   "outputs": [],
   "source": [
    "def GetValorDeCuota(monto, tasa, cuotas, periodo=\"mensual\"):\n",
    "    \"\"\"\n",
    "    Retorna el valor actual de la cuota, según el \n",
    "    método francés en donde las cuotas son fijas.\n",
    "                \n",
    "    Formula = R = P [(i (1 + i)**n) / ((1 + i)**n – 1)]. \n",
    "    Donde: \n",
    "        R = renta (cuota)\n",
    "        P = principal (préstamo adquirido)\n",
    "        i = tasa de interés\n",
    "        n = número de periodos\n",
    "    \"\"\"\n",
    "\n",
    "    tasa = tasa / 100.0\n",
    "        \n",
    "    if periodo == \"diario\":\n",
    "        tasa /= 30.4167\n",
    "    elif periodo == \"semanal\":\n",
    "        tasa /= 4.34524\n",
    "    if periodo == \"quincenal\":\n",
    "        tasa /= 2.0\n",
    "    elif periodo == \"bimestral\":\n",
    "        tasa *= 2\n",
    "    elif periodo == \"trimestral\":\n",
    "        tasa *= 3\n",
    "    elif periodo == \"cuatrimestral\":\n",
    "        tasa *= 4\n",
    "    elif periodo == \"semestral\":\n",
    "        tasa *= 6\n",
    "    elif periodo == \"anual\":\n",
    "        tasa *= 12\n",
    "        \n",
    "    return monto * ( (tasa * ((1 + tasa)**cuotas)) / (((1 + tasa)**cuotas) - 1) )"
   ]
  },
  {
   "cell_type": "code",
   "execution_count": 26,
   "metadata": {},
   "outputs": [
    {
     "name": "stdout",
     "output_type": "stream",
     "text": [
      "Ingresar monto inicial 1200\n",
      "Ingrese el valor de la tasa 1\n",
      "Ingrese el numero de cuotas en las que se pagara 3\n",
      "+-------+---------------+---------+--------------+---------------+-------------+\n",
      "|  Mes  | Saldo inicial | Interes | Amortizacion | Cuota mensual | Saldo final |\n",
      "+-------+---------------+---------+--------------+---------------+-------------+\n",
      "|  13   |     1200      |   12    |   396.027    |    408.027    |   803.973   |\n",
      "+-------+---------------+---------+--------------+---------------+-------------+\n",
      "| 1.12  |     1200      |  0.12   |   407.907    |    408.027    |   792.093   |\n",
      "+-------+---------------+---------+--------------+---------------+-------------+\n",
      "| 1.001 |     1200      |  0.001  |   408.025    |    408.027    |   791.975   |\n",
      "+-------+---------------+---------+--------------+---------------+-------------+\n",
      "|  13   |     1200      |   12    |   396.027    |    408.027    |   803.973   |\n",
      "+-------+---------------+---------+--------------+---------------+-------------+\n",
      "| 9.04  |    803.973    |  8.04   |   399.987    |    408.027    |   403.987   |\n",
      "+-------+---------------+---------+--------------+---------------+-------------+\n",
      "| 5.04  |    403.987    |  4.04   |   403.987    |    408.027    |     0.0     |\n",
      "+-------+---------------+---------+--------------+---------------+-------------+\n"
     ]
    }
   ],
   "source": [
    "montoInicial = input(\"Ingresar monto inicial \")\n",
    "tasa = input(\"Ingrese el valor de la tasa \")\n",
    "cuotas = input(\"Ingrese el numero de cuotas en las que se pagara \")\n",
    "cuotaR = GetValorDeCuota(float(montoInicial),float(tasa),int(cuotas))\n",
    "tasa = float(tasa) / 100\n",
    "for i in range(0,int(cuotas)):\n",
    "    i = tasa*float(montoInicial)\n",
    "    amortizacion = float(cuotaR)-i\n",
    "    saldoFinal = float(montoInicial)-amortizacion\n",
    "    table.append_row([i+1,montoInicial,i,amortizacion,cuotaR,saldoFinal])\n",
    "    montoInicial = saldoFinal\n",
    "print(table)"
   ]
  }
 ],
 "metadata": {
  "kernelspec": {
   "display_name": "Python 3",
   "language": "python",
   "name": "python3"
  },
  "language_info": {
   "codemirror_mode": {
    "name": "ipython",
    "version": 3
   },
   "file_extension": ".py",
   "mimetype": "text/x-python",
   "name": "python",
   "nbconvert_exporter": "python",
   "pygments_lexer": "ipython3",
   "version": "3.5.2"
  }
 },
 "nbformat": 4,
 "nbformat_minor": 2
}
